import pandas as pd
import plotly.express as px
import plotly.graph_objects as go

# Cargar el dataset
df = pd.read_csv('superstore.csv')

# Convertir las columnas Order Date y Ship Date a datetime
df['Order Date'] = pd.to_datetime(df['Order Date'])
df['Ship Date'] = pd.to_datetime(df['Ship Date'])

# Crear columna YearMonth
df['YearMonth'] = df['Order Date'].dt.to_period('M')

# Gráfica de barras: ventas totales por categoría
fig_bar = px.bar(df.groupby('Category').sum().reset_index(), x='Category', y='Sales', text='Sales', title='Ventas Totales por Categoría')
fig_bar.update_traces(texttemplate='%{text:.2s}', textposition='outside')
fig_bar.show()

# Gráfico de líneas con Plotly Express: evolución de las ventas
fig_line_express = px.line(df.groupby('YearMonth').sum().reset_index(), x='YearMonth', y='Sales', title='Evolución de las Ventas')
fig_line_express.show()

# Gráfico de líneas con Plotly Go: evolución de ventas con media móvil de periodo 3
df_sales = df.groupby('YearMonth').sum().reset_index()
df_sales['Moving Average'] = df_sales['Sales'].rolling(window=3).mean()

fig_line_go = go.Figure()
fig_line_go.add_trace(go.Scatter(x=df_sales['YearMonth'].astype(str), y=df_sales['Sales'], mode='lines', name='Ventas'))
fig_line_go.add_trace(go.Scatter(x=df_sales['YearMonth'].astype(str), y=df_sales['Moving Average'], mode='lines', name='Media Móvil (Periodo 3)', line=dict(color='red')))
fig_line_go.update_layout(title='Evolución de Ventas con Media Móvil (Periodo 3)')
fig_line_go.show()

# Gráfico treemap: ventas por región, categoría y subcategoría
fig_treemap = px.treemap(df, path=['Region', 'Category', 'Sub-Category'], values='Sales', title='Ventas por Región, Categoría y Sub-Categoría')
fig_treemap.show()

# Gráfico de scatter: relación entre ventas y ganancia, coloreado por descuento
fig_scatter = px.scatter(df, x='Sales', y='Profit', color='Discount', title='Relación entre Ventas y Ganancia, Coloreado por Descuento')
fig_scatter.show()

# Gráfico coroplético: ventas totales por país
fig_choropleth = px.choropleth(df.groupby('Country').sum().reset_index(), locations='Country', locationmode='country names', color='Sales', title='Ventas Totales por País')
fig_choropleth.show()
